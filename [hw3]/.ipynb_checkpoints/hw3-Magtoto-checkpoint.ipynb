{
 "cells": [
  {
   "cell_type": "code",
   "execution_count": 101,
   "id": "d83bd9c7-58f6-41c2-bf46-a8dea42d1114",
   "metadata": {},
   "outputs": [],
   "source": [
    "import numpy as np\n",
    "import pandas as pd\n",
    "import matplotlib.pyplot as plt\n",
    "from sklearn.model_selection import train_test_split"
   ]
  },
  {
   "cell_type": "code",
   "execution_count": 103,
   "id": "4dfccb51-439f-4684-b2b7-ff73291dc327",
   "metadata": {},
   "outputs": [
    {
     "data": {
      "text/html": [
       "<div>\n",
       "<style scoped>\n",
       "    .dataframe tbody tr th:only-of-type {\n",
       "        vertical-align: middle;\n",
       "    }\n",
       "\n",
       "    .dataframe tbody tr th {\n",
       "        vertical-align: top;\n",
       "    }\n",
       "\n",
       "    .dataframe thead th {\n",
       "        text-align: right;\n",
       "    }\n",
       "</style>\n",
       "<table border=\"1\" class=\"dataframe\">\n",
       "  <thead>\n",
       "    <tr style=\"text-align: right;\">\n",
       "      <th></th>\n",
       "      <th>Unnamed: 0</th>\n",
       "      <th>TV</th>\n",
       "      <th>Radio</th>\n",
       "      <th>Newspaper</th>\n",
       "      <th>Sales</th>\n",
       "    </tr>\n",
       "  </thead>\n",
       "  <tbody>\n",
       "    <tr>\n",
       "      <th>0</th>\n",
       "      <td>1</td>\n",
       "      <td>230.1</td>\n",
       "      <td>37.8</td>\n",
       "      <td>69.2</td>\n",
       "      <td>22.1</td>\n",
       "    </tr>\n",
       "    <tr>\n",
       "      <th>1</th>\n",
       "      <td>2</td>\n",
       "      <td>44.5</td>\n",
       "      <td>39.3</td>\n",
       "      <td>45.1</td>\n",
       "      <td>10.4</td>\n",
       "    </tr>\n",
       "    <tr>\n",
       "      <th>2</th>\n",
       "      <td>3</td>\n",
       "      <td>17.2</td>\n",
       "      <td>45.9</td>\n",
       "      <td>69.3</td>\n",
       "      <td>9.3</td>\n",
       "    </tr>\n",
       "    <tr>\n",
       "      <th>3</th>\n",
       "      <td>4</td>\n",
       "      <td>151.5</td>\n",
       "      <td>41.3</td>\n",
       "      <td>58.5</td>\n",
       "      <td>18.5</td>\n",
       "    </tr>\n",
       "    <tr>\n",
       "      <th>4</th>\n",
       "      <td>5</td>\n",
       "      <td>180.8</td>\n",
       "      <td>10.8</td>\n",
       "      <td>58.4</td>\n",
       "      <td>12.9</td>\n",
       "    </tr>\n",
       "  </tbody>\n",
       "</table>\n",
       "</div>"
      ],
      "text/plain": [
       "   Unnamed: 0     TV  Radio  Newspaper  Sales\n",
       "0           1  230.1   37.8       69.2   22.1\n",
       "1           2   44.5   39.3       45.1   10.4\n",
       "2           3   17.2   45.9       69.3    9.3\n",
       "3           4  151.5   41.3       58.5   18.5\n",
       "4           5  180.8   10.8       58.4   12.9"
      ]
     },
     "execution_count": 103,
     "metadata": {},
     "output_type": "execute_result"
    }
   ],
   "source": [
    "data = pd.read_csv(\"data/Advertising.csv\")\n",
    "data.head()"
   ]
  },
  {
   "cell_type": "code",
   "execution_count": 105,
   "id": "9e89683a-37f6-4b69-a184-dba0a34a235d",
   "metadata": {},
   "outputs": [],
   "source": [
    "x_scaled = (data - data.mean())/data.std()\n"
   ]
  },
  {
   "cell_type": "code",
   "execution_count": 107,
   "id": "95dcc594-03a6-4178-bb5c-c236e609ef1a",
   "metadata": {},
   "outputs": [
    {
     "data": {
      "text/html": [
       "<div>\n",
       "<style scoped>\n",
       "    .dataframe tbody tr th:only-of-type {\n",
       "        vertical-align: middle;\n",
       "    }\n",
       "\n",
       "    .dataframe tbody tr th {\n",
       "        vertical-align: top;\n",
       "    }\n",
       "\n",
       "    .dataframe thead th {\n",
       "        text-align: right;\n",
       "    }\n",
       "</style>\n",
       "<table border=\"1\" class=\"dataframe\">\n",
       "  <thead>\n",
       "    <tr style=\"text-align: right;\">\n",
       "      <th></th>\n",
       "      <th>TV</th>\n",
       "      <th>Radio</th>\n",
       "      <th>Newspaper</th>\n",
       "    </tr>\n",
       "  </thead>\n",
       "  <tbody>\n",
       "    <tr>\n",
       "      <th>0</th>\n",
       "      <td>0.967425</td>\n",
       "      <td>0.979066</td>\n",
       "      <td>1.774493</td>\n",
       "    </tr>\n",
       "    <tr>\n",
       "      <th>1</th>\n",
       "      <td>-1.194379</td>\n",
       "      <td>1.080097</td>\n",
       "      <td>0.667903</td>\n",
       "    </tr>\n",
       "    <tr>\n",
       "      <th>2</th>\n",
       "      <td>-1.512360</td>\n",
       "      <td>1.524637</td>\n",
       "      <td>1.779084</td>\n",
       "    </tr>\n",
       "    <tr>\n",
       "      <th>3</th>\n",
       "      <td>0.051919</td>\n",
       "      <td>1.214806</td>\n",
       "      <td>1.283185</td>\n",
       "    </tr>\n",
       "    <tr>\n",
       "      <th>4</th>\n",
       "      <td>0.393196</td>\n",
       "      <td>-0.839507</td>\n",
       "      <td>1.278593</td>\n",
       "    </tr>\n",
       "  </tbody>\n",
       "</table>\n",
       "</div>"
      ],
      "text/plain": [
       "         TV     Radio  Newspaper\n",
       "0  0.967425  0.979066   1.774493\n",
       "1 -1.194379  1.080097   0.667903\n",
       "2 -1.512360  1.524637   1.779084\n",
       "3  0.051919  1.214806   1.283185\n",
       "4  0.393196 -0.839507   1.278593"
      ]
     },
     "execution_count": 107,
     "metadata": {},
     "output_type": "execute_result"
    }
   ],
   "source": [
    "x = x_scaled[['TV', 'Radio', 'Newspaper']]\n",
    "y = data['Sales']\n",
    "\n",
    "x.head()"
   ]
  },
  {
   "cell_type": "code",
   "execution_count": null,
   "id": "329a459c-e068-4964-9dd0-a77eae24b325",
   "metadata": {},
   "outputs": [],
   "source": [
    "# Add an extra column of ones for the bias term\n",
    "x_with_xtraColumn = np.c_[np.ones(x.shape[0]), x]\n",
    "\n",
    "# Convert it back to a DataFrame with appropriate column names\n",
    "x_extraColumn_DF = pd.DataFrame(x_with_xtraColumn, columns=['Bias', 'TV', 'Radio', 'Newspaper'])\n",
    "\n",
    "# Display the first few rows of the DataFrame\n",
    "x_extraColumn_DF.head()"
   ]
  },
  {
   "cell_type": "code",
   "execution_count": null,
   "id": "3ca38cb9-e2dc-494e-8ba4-f79927e03376",
   "metadata": {},
   "outputs": [],
   "source": [
    "# Assuming x_extraColumn_DF is your feature matrix and y is your target\n",
    "x_train, x_test, y_train, y_test = train_test_split(x_with_xtraColumn, y, test_size=0.15, random_state=42)\n",
    "\n",
    "# Display the shapes of the training and testing sets\n",
    "print(\"Training set shape:\", {x_train.shape}, {y_train.shape})\n",
    "print(\"Testing set shape:\", {x_test.shape}, {y_test.shape})"
   ]
  },
  {
   "cell_type": "code",
   "execution_count": null,
   "id": "5c34c8ab-77e8-4ebe-a48f-e185b794a74f",
   "metadata": {},
   "outputs": [],
   "source": [
    "# Initialize the weights (including bias term)\n",
    "def initialize_weights():\n",
    "    np.random.seed(42)  # For reproducibility\n",
    "    init_w = np.random.uniform(0, 1, 4)  # 4 weights between 0 and 1\n",
    "    return init_w\n",
    "\n",
    "weights = initialize_weights()\n",
    "print(\"Initial Weights:\", weights)"
   ]
  },
  {
   "cell_type": "code",
   "execution_count": null,
   "id": "ff6d44db-9e8d-498e-912e-b4e8644a7b31",
   "metadata": {
    "scrolled": true
   },
   "outputs": [],
   "source": [
    "def predict(x, weights):\n",
    "    return x.dot(weights)\n",
    "\n",
    "predicts = predict(X_train, weights)\n"
   ]
  },
  {
   "cell_type": "code",
   "execution_count": null,
   "id": "cfc305a5-5f4f-41d3-a8a9-aee5fa64e9d3",
   "metadata": {},
   "outputs": [],
   "source": [
    "def cost(x, y, weights):\n",
    "    m = len(y)\n",
    "    yhat = predict(x, weights)\n",
    "    cost = (1/(2*m)) * np.sum((yhat-y)**2)\n",
    "    return cost"
   ]
  },
  {
   "cell_type": "code",
   "execution_count": null,
   "id": "16f1923f-ad4b-4d59-8e2d-68e3d366e982",
   "metadata": {},
   "outputs": [],
   "source": [
    "def gradient(x, y, weight):\n",
    "    m = len(y)\n",
    "    yhat = predict(x, weights)\n",
    "    gradient = (1/m) * np.dot(x.T, (yhat - y))\n",
    "    return gradient\n",
    "    "
   ]
  },
  {
   "cell_type": "code",
   "execution_count": null,
   "id": "5984f8b6-eaf9-4a5b-90ea-d7ca3138a351",
   "metadata": {},
   "outputs": [],
   "source": [
    "def update_weights(old_weights, learning_rate, gradient):\n",
    "    new_weights = old_weights - learning_rate * gradient\n",
    "    return new_weights"
   ]
  },
  {
   "cell_type": "code",
   "execution_count": null,
   "id": "91f5f5d2-db8b-4679-8f0c-795425f836b9",
   "metadata": {},
   "outputs": [],
   "source": [
    "# Corrected second version\n",
    "def grad_descent(x, y, weights, learning_rate, iteration_num):\n",
    "    costs = []\n",
    "    weights_cont = []  # To store weights for each iteration\n",
    "\n",
    "    for i in range(iteration_num):\n",
    "        computed_cost = cost(x, y, weights)\n",
    "        computed_gradient = gradient(x, y, weights)\n",
    "\n",
    "        weights = update_weights(weights, learning_rate, computed_gradient)\n",
    "\n",
    "        costs.append(computed_cost)\n",
    "        weights_cont.append(weights)\n",
    "\n",
    "        if i % 100 == 0:\n",
    "            print(f\"Iteration {i}: Cost = {computed_cost}\")\n",
    "\n",
    "    return np.array(costs), np.array(weights_cont)\n",
    "\n",
    "learning_rate = 0.01\n",
    "iteration_num = 100\n",
    "\n",
    "weight_init = initialize_weights()\n",
    "\n",
    "weights, costs = grad_descent(x_train, y_train, weights, learning_rate, iteration_num)\n",
    "\n",
    "print('Final Cost: ', costs[-1])\n",
    "print('Final Weights: ', weights[-1])\n",
    "\n",
    "        "
   ]
  },
  {
   "cell_type": "code",
   "execution_count": null,
   "id": "66e8ca88-db48-41fc-8e25-567bf99a1afb",
   "metadata": {},
   "outputs": [],
   "source": []
  }
 ],
 "metadata": {
  "kernelspec": {
   "display_name": "Python 3 (ipykernel)",
   "language": "python",
   "name": "python3"
  },
  "language_info": {
   "codemirror_mode": {
    "name": "ipython",
    "version": 3
   },
   "file_extension": ".py",
   "mimetype": "text/x-python",
   "name": "python",
   "nbconvert_exporter": "python",
   "pygments_lexer": "ipython3",
   "version": "3.12.4"
  }
 },
 "nbformat": 4,
 "nbformat_minor": 5
}
