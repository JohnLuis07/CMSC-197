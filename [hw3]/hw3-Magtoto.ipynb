{
 "cells": [
  {
   "cell_type": "markdown",
   "id": "d00f374b-c5c5-4138-8899-e4ce62d70548",
   "metadata": {},
   "source": [
    "# Instructions for the application part: "
   ]
  },
  {
   "cell_type": "markdown",
   "id": "ebb7195a-2bd2-4e73-b129-658254428f79",
   "metadata": {},
   "source": [
    "Github Link: https://github.com/JohnLuis07/CMSC-197"
   ]
  },
  {
   "cell_type": "markdown",
   "id": "1d4a2a8b-c50e-48af-949f-5d910336381a",
   "metadata": {},
   "source": [
    "# 1"
   ]
  },
  {
   "cell_type": "code",
   "execution_count": 2,
   "id": "d83bd9c7-58f6-41c2-bf46-a8dea42d1114",
   "metadata": {},
   "outputs": [],
   "source": [
    "import numpy as np\n",
    "import pandas as pd\n",
    "import matplotlib.pyplot as plt\n",
    "from sklearn.model_selection import train_test_split\n",
    "from sklearn.metrics import mean_squared_error, r2_score\n",
    "from sklearn.linear_model import LinearRegression"
   ]
  },
  {
   "cell_type": "code",
   "execution_count": 3,
   "id": "4dfccb51-439f-4684-b2b7-ff73291dc327",
   "metadata": {},
   "outputs": [
    {
     "data": {
      "text/html": [
       "<div>\n",
       "<style scoped>\n",
       "    .dataframe tbody tr th:only-of-type {\n",
       "        vertical-align: middle;\n",
       "    }\n",
       "\n",
       "    .dataframe tbody tr th {\n",
       "        vertical-align: top;\n",
       "    }\n",
       "\n",
       "    .dataframe thead th {\n",
       "        text-align: right;\n",
       "    }\n",
       "</style>\n",
       "<table border=\"1\" class=\"dataframe\">\n",
       "  <thead>\n",
       "    <tr style=\"text-align: right;\">\n",
       "      <th></th>\n",
       "      <th>TV</th>\n",
       "      <th>Radio</th>\n",
       "      <th>Newspaper</th>\n",
       "      <th>Sales</th>\n",
       "    </tr>\n",
       "  </thead>\n",
       "  <tbody>\n",
       "    <tr>\n",
       "      <th>0</th>\n",
       "      <td>230.1</td>\n",
       "      <td>37.8</td>\n",
       "      <td>69.2</td>\n",
       "      <td>22.1</td>\n",
       "    </tr>\n",
       "    <tr>\n",
       "      <th>1</th>\n",
       "      <td>44.5</td>\n",
       "      <td>39.3</td>\n",
       "      <td>45.1</td>\n",
       "      <td>10.4</td>\n",
       "    </tr>\n",
       "    <tr>\n",
       "      <th>2</th>\n",
       "      <td>17.2</td>\n",
       "      <td>45.9</td>\n",
       "      <td>69.3</td>\n",
       "      <td>9.3</td>\n",
       "    </tr>\n",
       "    <tr>\n",
       "      <th>3</th>\n",
       "      <td>151.5</td>\n",
       "      <td>41.3</td>\n",
       "      <td>58.5</td>\n",
       "      <td>18.5</td>\n",
       "    </tr>\n",
       "    <tr>\n",
       "      <th>4</th>\n",
       "      <td>180.8</td>\n",
       "      <td>10.8</td>\n",
       "      <td>58.4</td>\n",
       "      <td>12.9</td>\n",
       "    </tr>\n",
       "  </tbody>\n",
       "</table>\n",
       "</div>"
      ],
      "text/plain": [
       "      TV  Radio  Newspaper  Sales\n",
       "0  230.1   37.8       69.2   22.1\n",
       "1   44.5   39.3       45.1   10.4\n",
       "2   17.2   45.9       69.3    9.3\n",
       "3  151.5   41.3       58.5   18.5\n",
       "4  180.8   10.8       58.4   12.9"
      ]
     },
     "execution_count": 3,
     "metadata": {},
     "output_type": "execute_result"
    }
   ],
   "source": [
    "data = pd.read_csv(\"data/Advertising.csv\")\n",
    "data = data.drop(columns = ['Unnamed: 0'])\n",
    "data.head()"
   ]
  },
  {
   "cell_type": "markdown",
   "id": "0666cb9a-d64d-4222-a075-eb3a99f645a1",
   "metadata": {},
   "source": [
    "# 2"
   ]
  },
  {
   "cell_type": "code",
   "execution_count": 5,
   "id": "9e89683a-37f6-4b69-a184-dba0a34a235d",
   "metadata": {},
   "outputs": [],
   "source": [
    "x_scaled = (data - data.mean())/data.std()\n"
   ]
  },
  {
   "cell_type": "code",
   "execution_count": 6,
   "id": "95dcc594-03a6-4178-bb5c-c236e609ef1a",
   "metadata": {},
   "outputs": [
    {
     "data": {
      "text/html": [
       "<div>\n",
       "<style scoped>\n",
       "    .dataframe tbody tr th:only-of-type {\n",
       "        vertical-align: middle;\n",
       "    }\n",
       "\n",
       "    .dataframe tbody tr th {\n",
       "        vertical-align: top;\n",
       "    }\n",
       "\n",
       "    .dataframe thead th {\n",
       "        text-align: right;\n",
       "    }\n",
       "</style>\n",
       "<table border=\"1\" class=\"dataframe\">\n",
       "  <thead>\n",
       "    <tr style=\"text-align: right;\">\n",
       "      <th></th>\n",
       "      <th>TV</th>\n",
       "      <th>Radio</th>\n",
       "      <th>Newspaper</th>\n",
       "    </tr>\n",
       "  </thead>\n",
       "  <tbody>\n",
       "    <tr>\n",
       "      <th>0</th>\n",
       "      <td>0.967425</td>\n",
       "      <td>0.979066</td>\n",
       "      <td>1.774493</td>\n",
       "    </tr>\n",
       "    <tr>\n",
       "      <th>1</th>\n",
       "      <td>-1.194379</td>\n",
       "      <td>1.080097</td>\n",
       "      <td>0.667903</td>\n",
       "    </tr>\n",
       "    <tr>\n",
       "      <th>2</th>\n",
       "      <td>-1.512360</td>\n",
       "      <td>1.524637</td>\n",
       "      <td>1.779084</td>\n",
       "    </tr>\n",
       "    <tr>\n",
       "      <th>3</th>\n",
       "      <td>0.051919</td>\n",
       "      <td>1.214806</td>\n",
       "      <td>1.283185</td>\n",
       "    </tr>\n",
       "    <tr>\n",
       "      <th>4</th>\n",
       "      <td>0.393196</td>\n",
       "      <td>-0.839507</td>\n",
       "      <td>1.278593</td>\n",
       "    </tr>\n",
       "  </tbody>\n",
       "</table>\n",
       "</div>"
      ],
      "text/plain": [
       "         TV     Radio  Newspaper\n",
       "0  0.967425  0.979066   1.774493\n",
       "1 -1.194379  1.080097   0.667903\n",
       "2 -1.512360  1.524637   1.779084\n",
       "3  0.051919  1.214806   1.283185\n",
       "4  0.393196 -0.839507   1.278593"
      ]
     },
     "execution_count": 6,
     "metadata": {},
     "output_type": "execute_result"
    }
   ],
   "source": [
    "x = x_scaled[['TV', 'Radio', 'Newspaper']]\n",
    "y = data['Sales']\n",
    "\n",
    "x.head()"
   ]
  },
  {
   "cell_type": "markdown",
   "id": "bdd4ae17-e354-4d41-bb78-8958cae7253e",
   "metadata": {},
   "source": [
    "# 3"
   ]
  },
  {
   "cell_type": "code",
   "execution_count": 8,
   "id": "329a459c-e068-4964-9dd0-a77eae24b325",
   "metadata": {},
   "outputs": [
    {
     "data": {
      "text/html": [
       "<div>\n",
       "<style scoped>\n",
       "    .dataframe tbody tr th:only-of-type {\n",
       "        vertical-align: middle;\n",
       "    }\n",
       "\n",
       "    .dataframe tbody tr th {\n",
       "        vertical-align: top;\n",
       "    }\n",
       "\n",
       "    .dataframe thead th {\n",
       "        text-align: right;\n",
       "    }\n",
       "</style>\n",
       "<table border=\"1\" class=\"dataframe\">\n",
       "  <thead>\n",
       "    <tr style=\"text-align: right;\">\n",
       "      <th></th>\n",
       "      <th>Bias</th>\n",
       "      <th>TV</th>\n",
       "      <th>Radio</th>\n",
       "      <th>Newspaper</th>\n",
       "    </tr>\n",
       "  </thead>\n",
       "  <tbody>\n",
       "    <tr>\n",
       "      <th>0</th>\n",
       "      <td>1</td>\n",
       "      <td>0.967425</td>\n",
       "      <td>0.979066</td>\n",
       "      <td>1.774493</td>\n",
       "    </tr>\n",
       "    <tr>\n",
       "      <th>1</th>\n",
       "      <td>1</td>\n",
       "      <td>-1.194379</td>\n",
       "      <td>1.080097</td>\n",
       "      <td>0.667903</td>\n",
       "    </tr>\n",
       "    <tr>\n",
       "      <th>2</th>\n",
       "      <td>1</td>\n",
       "      <td>-1.512360</td>\n",
       "      <td>1.524637</td>\n",
       "      <td>1.779084</td>\n",
       "    </tr>\n",
       "    <tr>\n",
       "      <th>3</th>\n",
       "      <td>1</td>\n",
       "      <td>0.051919</td>\n",
       "      <td>1.214806</td>\n",
       "      <td>1.283185</td>\n",
       "    </tr>\n",
       "    <tr>\n",
       "      <th>4</th>\n",
       "      <td>1</td>\n",
       "      <td>0.393196</td>\n",
       "      <td>-0.839507</td>\n",
       "      <td>1.278593</td>\n",
       "    </tr>\n",
       "  </tbody>\n",
       "</table>\n",
       "</div>"
      ],
      "text/plain": [
       "   Bias        TV     Radio  Newspaper\n",
       "0     1  0.967425  0.979066   1.774493\n",
       "1     1 -1.194379  1.080097   0.667903\n",
       "2     1 -1.512360  1.524637   1.779084\n",
       "3     1  0.051919  1.214806   1.283185\n",
       "4     1  0.393196 -0.839507   1.278593"
      ]
     },
     "execution_count": 8,
     "metadata": {},
     "output_type": "execute_result"
    }
   ],
   "source": [
    "# Convert it into DataFrame with appropriate column names\n",
    "x_extraColumn_DF = pd.DataFrame(x, columns=['TV', 'Radio', 'Newspaper'])\n",
    "\n",
    "# Add extra column for Bias\n",
    "x_extraColumn_DF.insert(0, 'Bias', 1)\n",
    "\n",
    "# Display the first few rows of the DataFrame\n",
    "x_extraColumn_DF.head()"
   ]
  },
  {
   "cell_type": "markdown",
   "id": "f5a1f324-346e-4eb0-9cd7-488674b9157b",
   "metadata": {},
   "source": [
    "# 4"
   ]
  },
  {
   "cell_type": "code",
   "execution_count": 10,
   "id": "3ca38cb9-e2dc-494e-8ba4-f79927e03376",
   "metadata": {},
   "outputs": [
    {
     "name": "stdout",
     "output_type": "stream",
     "text": [
      "Training set shape: {(170, 4)} {(170,)}\n",
      "Testing set shape: {(30, 4)} {(30,)}\n"
     ]
    }
   ],
   "source": [
    "# Assuming x_extraColumn_DF is your feature matrix and y is your target\n",
    "x_train, x_test, y_train, y_test = train_test_split(x_extraColumn_DF, y, test_size=0.15, random_state=42)\n",
    "\n",
    "# Display the shapes of the training and testing sets\n",
    "print(\"Training set shape:\", {x_train.shape}, {y_train.shape})\n",
    "print(\"Testing set shape:\", {x_test.shape}, {y_test.shape})"
   ]
  },
  {
   "cell_type": "markdown",
   "id": "f1049672-2e77-47c9-9bd2-af8d905254be",
   "metadata": {},
   "source": [
    "# 5"
   ]
  },
  {
   "cell_type": "markdown",
   "id": "6ac1c56a-1038-4107-8ff4-8de0bfeca224",
   "metadata": {},
   "source": [
    "5.1"
   ]
  },
  {
   "cell_type": "code",
   "execution_count": 13,
   "id": "5c34c8ab-77e8-4ebe-a48f-e185b794a74f",
   "metadata": {},
   "outputs": [],
   "source": [
    "# Initialize the weights (including bias term)\n",
    "def initialize_weights():\n",
    "    np.random.seed(42)  # For reproducibility\n",
    "    init_w = np.random.uniform(0, 1, 4)  # 4 weights between 0 and 1\n",
    "    return init_w"
   ]
  },
  {
   "cell_type": "markdown",
   "id": "a7208991-1aa8-4844-9130-8aaccf46ef2f",
   "metadata": {},
   "source": [
    "5.2"
   ]
  },
  {
   "cell_type": "code",
   "execution_count": 15,
   "id": "ff6d44db-9e8d-498e-912e-b4e8644a7b31",
   "metadata": {
    "scrolled": true
   },
   "outputs": [],
   "source": [
    "def predict(x, weights):\n",
    "    return np.dot(x, weights)\n",
    "\n"
   ]
  },
  {
   "cell_type": "markdown",
   "id": "ab0bc1d2-7577-4d97-a0c8-2b237df799bc",
   "metadata": {},
   "source": [
    "5.3"
   ]
  },
  {
   "cell_type": "code",
   "execution_count": 17,
   "id": "cfc305a5-5f4f-41d3-a8a9-aee5fa64e9d3",
   "metadata": {},
   "outputs": [],
   "source": [
    "def cost(x, y, weights):\n",
    "    m = len(y)\n",
    "    yhat = predict(x, weights)\n",
    "    cost = (1/(2*m)) * np.sum((yhat-y)**2)\n",
    "    return cost"
   ]
  },
  {
   "cell_type": "markdown",
   "id": "fd7d2e7d-d6ed-45e6-9e3a-114eef1b61ea",
   "metadata": {},
   "source": [
    "5.4"
   ]
  },
  {
   "cell_type": "code",
   "execution_count": 19,
   "id": "16f1923f-ad4b-4d59-8e2d-68e3d366e982",
   "metadata": {},
   "outputs": [],
   "source": [
    "def gradient(x, y, weights):\n",
    "    m = len(y)\n",
    "    yhat = predict(x, weights)\n",
    "    gradient = (1/m) * np.dot(x.T, (yhat - y))\n",
    "    return gradient\n",
    "    "
   ]
  },
  {
   "cell_type": "markdown",
   "id": "0b233fa8-bba8-4737-8f4e-714f6ed98737",
   "metadata": {},
   "source": [
    "5.5"
   ]
  },
  {
   "cell_type": "code",
   "execution_count": 21,
   "id": "5984f8b6-eaf9-4a5b-90ea-d7ca3138a351",
   "metadata": {},
   "outputs": [],
   "source": [
    "def update_weights(old_weights, learning_rate, gradient):\n",
    "    new_weights = old_weights - learning_rate * gradient\n",
    "    return new_weights"
   ]
  },
  {
   "cell_type": "markdown",
   "id": "228b2e53-55dc-43c2-b068-f005dd48dff1",
   "metadata": {},
   "source": [
    "5.6"
   ]
  },
  {
   "cell_type": "code",
   "execution_count": 23,
   "id": "91f5f5d2-db8b-4679-8f0c-795425f836b9",
   "metadata": {},
   "outputs": [
    {
     "name": "stdout",
     "output_type": "stream",
     "text": [
      "Final Cost:  [1.3904882109695738, 1.39048811544133, 1.3904880210595678, 1.3904879278101974, 1.3904878356793064, 1.390487744653162, 1.3904876547182035, 1.390487565861045, 1.3904874780684693, 1.3904873913274274, 1.390487305625036, 1.3904872209485748, 1.390487137285485, 1.3904870546233674, 1.390486972949978, 1.3904868922532303, 1.3904868125211882, 1.3904867337420679, 1.3904866559042326, 1.3904865789961949]\n",
      "Final Weights:  [14.02423134  3.84751357  2.79507421  0.01984055]\n"
     ]
    }
   ],
   "source": [
    "def grad_descent(x, y, learning_rate, iteration_num):\n",
    "    costs = []\n",
    "    weights_cont = initialize_weights()  # Initialize weights once before the loop\n",
    "\n",
    "    for i in range(iteration_num):\n",
    "        # Compute the cost (assuming predictions are handled inside the cost function)\n",
    "        computed_cost = cost(x, y, weights_cont)\n",
    "\n",
    "        # Compute the gradients (assuming predictions are handled inside the gradient function)\n",
    "        computed_gradient = gradient(x, y, weights_cont)\n",
    "        \n",
    "        # Update the weights\n",
    "        weights_cont = update_weights(weights_cont, computed_gradient, learning_rate)\n",
    "        # Store the cost after each iteration\n",
    "        costs.append(computed_cost)\n",
    "\n",
    "    return costs, weights_cont\n",
    "\n",
    "\n",
    "# Define the learning rate and number of iterations\n",
    "learning_rate = 0.01\n",
    "iteration_num = 1000\n",
    "\n",
    "# Call the gradient descent function\n",
    "\n",
    "costs, weights = grad_descent(x_train, y_train, learning_rate, iteration_num)\n",
    "\n",
    "# Print the final cost and weights\n",
    "print('Final Cost: ', costs[-20:])  # Show the last 20 cost values\n",
    "print('Final Weights: ', weights)\n",
    "\n",
    "\n",
    "\n",
    "        "
   ]
  },
  {
   "cell_type": "markdown",
   "id": "56ec9d85-d9b9-4a75-b64b-fcc3a97d9ac5",
   "metadata": {},
   "source": [
    "5.7"
   ]
  },
  {
   "cell_type": "code",
   "execution_count": 25,
   "id": "6b041cf8-3d79-4c7f-9b5a-df9966512a3f",
   "metadata": {},
   "outputs": [],
   "source": [
    "def plot_costs(costs):\n",
    "    plt.figure(figsize=(10, 6))\n",
    "    plt.plot(range(len(costs)), costs, label='Cost', color='blue')\n",
    "    plt.title('Cost vs. Iteration')\n",
    "    plt.xlabel('Iteration')\n",
    "    plt.ylabel('Cost')\n",
    "    plt.grid(True)\n",
    "    plt.legend()\n",
    "    plt.show()\n",
    "    "
   ]
  },
  {
   "cell_type": "code",
   "execution_count": 26,
   "id": "66e8ca88-db48-41fc-8e25-567bf99a1afb",
   "metadata": {},
   "outputs": [
    {
     "data": {
      "image/png": "[encoded data removed]",
      "text/plain": [
       "<Figure size 1000x600 with 1 Axes>"
      ]
     },
     "metadata": {},
     "output_type": "display_data"
    }
   ],
   "source": [
    "plot_costs(costs)"
   ]
  },
  {
   "cell_type": "markdown",
   "id": "51495db0-9c13-409c-b75e-a9824b4a3e87",
   "metadata": {},
   "source": [
    "5.8"
   ]
  },
  {
   "cell_type": "code",
   "execution_count": 28,
   "id": "112e7270-e9b8-4871-820b-e06cb3f59e91",
   "metadata": {},
   "outputs": [
    {
     "name": "stdout",
     "output_type": "stream",
     "text": [
      "Computed cost for train set:  1.3904865030066105\n"
     ]
    }
   ],
   "source": [
    "# Calculated train cost, already predicted in the cost function\n",
    "computed_cost_train = cost(x_train, y_train, weights)\n",
    "\n",
    "print('Computed cost for train set: ', computed_cost_train)\n",
    "\n",
    "\n"
   ]
  },
  {
   "cell_type": "markdown",
   "id": "8f254786-fd59-4688-8197-fc043be5472f",
   "metadata": {},
   "source": [
    "5.9"
   ]
  },
  {
   "cell_type": "code",
   "execution_count": 35,
   "id": "cedb543e-db12-4169-aeff-5e5047c307a7",
   "metadata": {},
   "outputs": [
    {
     "name": "stdout",
     "output_type": "stream",
     "text": [
      "Computed cost for test set:  1.4275233259026485\n"
     ]
    }
   ],
   "source": [
    "# Calculates test cost, already predicted in the cost function\n",
    "computed_cost_test = cost(x_test, y_test, weights)\n",
    "\n",
    "print('Computed cost for test set: ', computed_cost_test)"
   ]
  },
  {
   "cell_type": "markdown",
   "id": "a0a48fe0-3075-47d7-ae31-e097102a3c68",
   "metadata": {},
   "source": [
    "# 6"
   ]
  },
  {
   "cell_type": "code",
   "execution_count": 37,
   "id": "1fd5f634-42ee-44b2-ac03-191607d6acb4",
   "metadata": {},
   "outputs": [
    {
     "name": "stdout",
     "output_type": "stream",
     "text": [
      "1.3904865030066105\n"
     ]
    }
   ],
   "source": [
    "# quantitative response y on the train set\n",
    "MSE_train_set = cost(x_train, y_train, weights)\n",
    "\n",
    "print(MSE_train_set)"
   ]
  },
  {
   "cell_type": "markdown",
   "id": "d4ad80ab-a485-4844-a1dd-6b03cc11717c",
   "metadata": {},
   "source": [
    "# 7"
   ]
  },
  {
   "cell_type": "code",
   "execution_count": 41,
   "id": "9b06f466-f3db-405d-9f63-16a37b5bf4db",
   "metadata": {},
   "outputs": [
    {
     "name": "stdout",
     "output_type": "stream",
     "text": [
      "1.4275233259026485\n"
     ]
    }
   ],
   "source": [
    "MSE_test_set = cost(x_test, y_test, weights)\n",
    "\n",
    "print(MSE_test_set)"
   ]
  },
  {
   "cell_type": "markdown",
   "id": "7dca5768-0d5c-43ea-b2fd-60471cf64be5",
   "metadata": {},
   "source": [
    "# 8"
   ]
  },
  {
   "cell_type": "code",
   "execution_count": 47,
   "id": "62c7da60-af6d-4a0a-a367-8cc711243a9a",
   "metadata": {},
   "outputs": [
    {
     "name": "stdout",
     "output_type": "stream",
     "text": [
      "        TV  Radio  Newspaper\n",
      "0    230.1   37.8       69.2\n",
      "1     44.5   39.3       45.1\n",
      "2     17.2   45.9       69.3\n",
      "3    151.5   41.3       58.5\n",
      "4    180.8   10.8       58.4\n",
      "..     ...    ...        ...\n",
      "195   38.2    3.7       13.8\n",
      "196   94.2    4.9        8.1\n",
      "197  177.0    9.3        6.4\n",
      "198  283.6   42.0       66.2\n",
      "199  232.1    8.6        8.7\n",
      "\n",
      "[200 rows x 3 columns]\n"
     ]
    }
   ],
   "source": [
    "# Calculate mean and standard deviation for original data\n",
    "x_mean = data[['TV', 'Radio', 'Newspaper']].mean()\n",
    "x_std = data[['TV', 'Radio', 'Newspaper']].std()\n",
    "\n",
    "# Revert scaling\n",
    "x_original = (x * x_std) + x_mean\n",
    "\n",
    "# Display the original data\n",
    "print(x_original)"
   ]
  },
  {
   "cell_type": "markdown",
   "id": "6f425290-6a87-4af5-9cdd-828aceb50fe4",
   "metadata": {},
   "source": [
    "# Questions"
   ]
  },
  {
   "cell_type": "markdown",
   "id": "c5a3dc0e-d2a7-4d48-8147-4bbc366433ff",
   "metadata": {},
   "source": [
    "1. What are the optimal weights found by your implemented gradient descent? Plug it into\r\n",
    "the linear model:"
   ]
  },
  {
   "cell_type": "code",
   "execution_count": 50,
   "id": "bb9712fe-f9d1-4341-b851-a275f6ba2be4",
   "metadata": {},
   "outputs": [
    {
     "name": "stdout",
     "output_type": "stream",
     "text": [
      "The optimal weights found on my implemented descent are:  [14.02423134  3.84751357  2.79507421  0.01984055]\n",
      "hΘ(x) = 14.024231342255073 + 3.8475135706591597TV + 2.795074211148914Radio + 0.019840545328305034Newspaper\n"
     ]
    }
   ],
   "source": [
    "print('The optimal weights found on my implemented descent are: ', weights)\n",
    "print(f\"hΘ(x) = {weights[0]} + {weights[1]}TV + {weights[2]}Radio + {weights[3]}Newspaper\")"
   ]
  },
  {
   "cell_type": "markdown",
   "id": "53b21ead-33d2-4c1a-9fb3-795fa3c6d506",
   "metadata": {},
   "source": [
    "The intercept is 14.024231342255073, this is the base value if TV, Radio, and Newspaper is zero. If no money has been spent on those three then the predicted sales would be 14.024231342255073. There is a 3.8475135706591597 increase on sales in TV whenever it has a unit increase on it, there is a 2.795074211148914 increase on sales in Radio whenever it has a unit increase on it, same goes for the Newspaper, there will be a 0.019840545328305034 increase on sales whenever it has a unit increase on it."
   ]
  },
  {
   "cell_type": "markdown",
   "id": "ad6651c3-891b-425c-9e5b-f9ba605c0687",
   "metadata": {},
   "source": [
    "2. Provide a scatter plot of the y_hat 𝑎𝑛𝑑 𝑦 for both the train and test set. Is there a\r\n",
    "trend? Provide an r2 score (also available in sklearn)."
   ]
  },
  {
   "cell_type": "code",
   "execution_count": 57,
   "id": "ef46a2c8-fbd9-471b-913d-d031cbb79774",
   "metadata": {},
   "outputs": [
    {
     "data": {
      "image/png": "[encoded data removed]",
      "text/plain": [
       "<Figure size 1000x600 with 1 Axes>"
      ]
     },
     "metadata": {},
     "output_type": "display_data"
    },
    {
     "name": "stdout",
     "output_type": "stream",
     "text": [
      "The r2 score in test set:  0.8936788712295599\n"
     ]
    },
    {
     "data": {
      "image/png": "[encoded data removed]",
      "text/plain": [
       "<Figure size 1000x600 with 1 Axes>"
      ]
     },
     "metadata": {},
     "output_type": "display_data"
    },
    {
     "name": "stdout",
     "output_type": "stream",
     "text": [
      "The r2 score in test set:  0.9109978474049424\n"
     ]
    }
   ],
   "source": [
    "predicted_train = predict(x_train, weights)\n",
    "predicted_test = predict(x_test, weights)\n",
    "\n",
    "\n",
    "\n",
    "plt.figure(figsize=(10, 6))\n",
    "plt.title('Train set for Actual and Predicted Sales')\n",
    "plt.scatter(y_train, predicted_train)\n",
    "plt.plot(y_train, y_train, color='red')\n",
    "plt.xlabel(\"Actual Sales\")\n",
    "plt.ylabel(\"Predicted Sales\")\n",
    "plt.show()\n",
    "\n",
    "# Train set r2 score\n",
    "r2_train_set = r2_score(y_train, predicted_train)\n",
    "print(\"The r2 score in test set: \", r2_train_set)\n",
    "\n",
    "plt.figure(figsize=(10, 6))\n",
    "plt.title('Test set for Actual and Predicted Sales')\n",
    "plt.scatter(y_test, predicted_test)\n",
    "plt.plot(y_test, y_test, color='red')\n",
    "plt.xlabel(\"Actual Sales\")\n",
    "plt.ylabel(\"Predicted Sales\")\n",
    "plt.show()\n",
    "\n",
    "# Test set r2 score\n",
    "r2_test_set = r2_score(y_test, predicted_test)\n",
    "print(\"The r2 score in test set: \", r2_test_set)"
   ]
  },
  {
   "cell_type": "markdown",
   "id": "c456b848-923f-4c53-9070-dde575ed9e03",
   "metadata": {},
   "source": [
    "Since the train and test set shows a linear diagonal pattern, therefore, it also clearly shows that it has a strong trend in terms of linearity. Same goes for the r2 score basis, the train set has a r2 score of 0.8936788712295599 while the test set has a r2 score of 0.9109978474049424 which is greater than 0.8, therefore both train and test set has a strong trend based on their high r2 scores."
   ]
  },
  {
   "cell_type": "markdown",
   "id": "4d7bd662-6099-4706-92cb-6be39064d37a",
   "metadata": {},
   "source": [
    "# 3"
   ]
  },
  {
   "cell_type": "code",
   "execution_count": 62,
   "id": "df5e8aa9-fed8-455f-a450-279794280132",
   "metadata": {},
   "outputs": [
    {
     "name": "stdout",
     "output_type": "stream",
     "text": [
      "Number of Iterations: 100\n",
      "Final Cost: 14.901887328993132\n",
      "R² Score for 100 iterations (Train): -0.11879636409861871\n",
      "R² Score for 100 iterations (Test): 0.10399571585232603\n",
      "\n",
      "Number of Iterations: 500\n",
      "Final Cost: 1.3966127742864711\n",
      "R² Score for 500 iterations (Train): 0.8932184490117522\n",
      "R² Score for 500 iterations (Test): 0.9099778107556373\n",
      "\n",
      "Number of Iterations: 5000\n",
      "Final Cost: 1.3904801309297574\n",
      "R² Score for 5000 iterations (Train): 0.8936793584593188\n",
      "R² Score for 5000 iterations (Test): 0.9110275702091689\n",
      "\n",
      "Number of Iterations: 10000\n",
      "Final Cost: 1.3904801309297574\n",
      "R² Score for 10000 iterations (Train): 0.8936793584593188\n",
      "R² Score for 10000 iterations (Test): 0.9110275702091717\n",
      "\n",
      "Number of Iterations: 25000\n",
      "Final Cost: 1.3904801309297574\n",
      "R² Score for 25000 iterations (Train): 0.8936793584593188\n",
      "R² Score for 25000 iterations (Test): 0.9110275702091717\n",
      "\n",
      "Number of Iterations: 50000\n",
      "Final Cost: 1.3904801309297574\n",
      "R² Score for 50000 iterations (Train): 0.8936793584593188\n",
      "R² Score for 50000 iterations (Test): 0.9110275702091717\n",
      "\n"
     ]
    }
   ],
   "source": [
    "iteration_num = [100, 500, 5000, 10000, 25000, 50000]\n",
    "\n",
    "# Loop through different iteration counts and evaluate performance\n",
    "for i in iteration_num:\n",
    "    # Perform gradient descent with i iterations\n",
    "    costs, weights = grad_descent(x_train, y_train, learning_rate, i)\n",
    "    \n",
    "    # Predict values for both train and test sets\n",
    "    predicted_train = predict(x_train, weights)\n",
    "    predicted_test = predict(x_test, weights)\n",
    "\n",
    "    # Get the final cost (last value in cost_history)\n",
    "    final_cost = costs[-1]\n",
    "    \n",
    "    # Display the current costs and r2 scores\n",
    "    print(f\"Number of Iterations: {i}\")\n",
    "    print(f\"Final Cost: {final_cost}\")\n",
    "    print(f\"R² Score for {i} iterations (Train): {r2_score(y_train, predicted_train)}\")\n",
    "    print(f\"R² Score for {i} iterations (Test): {r2_score(y_test, predicted_test)}\\n\")"
   ]
  },
  {
   "cell_type": "markdown",
   "id": "b7375a2f-72e1-42cf-b386-4ec4e577689d",
   "metadata": {},
   "source": [
    "As the number of iteration increases, the final cost decreases which is inverse in the r2 scores for the both train and test set that increases whenever the iteration increase. The cost from 100 to 500 are stable however if it goes to 5000 iteration above, the cost remain constant,for the R2 scores for both train and test set, it only becomes stable and constant once it raches 10000."
   ]
  },
  {
   "cell_type": "markdown",
   "id": "e4c267b6-8c88-48a5-a349-0a02d7c7894c",
   "metadata": {},
   "source": [
    "# 4\n"
   ]
  },
  {
   "cell_type": "code",
   "execution_count": 68,
   "id": "22f9e1a3-c3e5-4f38-9978-dd73d0381128",
   "metadata": {},
   "outputs": [
    {
     "name": "stdout",
     "output_type": "stream",
     "text": [
      "Learning Rate: 0.1, Final Cost: 1.3904801309297572\n",
      "Learning Rate: 0.01, Final Cost: 1.3904865789961949\n",
      "Learning Rate: 0.001, Final Cost: 14.780871493928169\n",
      "Learning Rate: 0.0001, Final Cost: 83.43290474209937\n",
      "Learning Rate: 0.2, Final Cost: 1.3904801309297574\n"
     ]
    },
    {
     "data": {
      "image/png": "[encoded data removed]",
      "text/plain": [
       "<Figure size 1000x600 with 1 Axes>"
      ]
     },
     "metadata": {},
     "output_type": "display_data"
    }
   ],
   "source": [
    "learning_rates = [0.1, 0.01, 0.001, 0.0001, 0.2]\n",
    "iteration_num = 1000 \n",
    "\n",
    "# List to store cost history for each learning rate\n",
    "cost_histories = []\n",
    "\n",
    "# Loop through different learning rates and apply gradient descent\n",
    "for i in learning_rates:\n",
    "    costs, weights = grad_descent(x_train, y_train, i, iteration_num)\n",
    "    \n",
    "    # Append the cost history for the current learning rate to the list\n",
    "    cost_histories.append(costs)\n",
    "    \n",
    "    # Print final cost for each learning rate (optional)\n",
    "    print(f\"Learning Rate: {i}, Final Cost: {costs[-1]}\")\n",
    "\n",
    "# Plot the cost function vs iterations for each learning rate\n",
    "plt.figure(figsize=(10, 6))\n",
    "\n",
    "# Plot the learning rates and its corresponding final costs\n",
    "for i, j in enumerate(learning_rates):\n",
    "    plt.plot(range(iteration_num), cost_histories[i], label=f'LR={j}')\n",
    "\n",
    "plt.title('Cost Function vs Iterations for Different Learning Rates')\n",
    "plt.xlabel('Iterations')\n",
    "plt.ylabel('Cost')\n",
    "plt.legend()\n",
    "plt.grid(True)\n",
    "plt.show()"
   ]
  },
  {
   "cell_type": "markdown",
   "id": "d4725a27-7a78-4610-a71b-f4f191786155",
   "metadata": {},
   "source": [
    "In higher learning rates such as the 0.2 and 0.2, the final costs are low. It also suggest that this rates are good for minimizing the cost function but it may have a risk for instability, for the learning rate 0.01, the final cost is slightly higher than the 0.1 and 0.2 which shows a good convergence pattern, therefore this rate is still effective for minimizing the cost function. The learning rate 0.0001 and 0.001 has the highest final costs among the others which has more gradual convergence and has a lower iteration instability."
   ]
  },
  {
   "cell_type": "markdown",
   "id": "cdea12b1-c29d-4477-b7be-159965bc94fe",
   "metadata": {},
   "source": [
    "# 5"
   ]
  },
  {
   "cell_type": "markdown",
   "id": "5333e9a1-bbe7-49bc-a959-d34754950f79",
   "metadata": {},
   "source": [
    "Yes, there is an inverse relationship between the two, while the Learning rate increases the final costs decreases, while the learning rate decreases, the final costs increases. The relationship can affect the convergence behavior and stability. For the convergence behavior, it can affect its speed. The higher the learning rates the faster the converge, the lower the learning rates, the slower the speed, and for stability while the iterations are going higher and higher, it goes stable or maybe becomes constant once it reaches much higher iterations. "
   ]
  },
  {
   "cell_type": "markdown",
   "id": "9936daf0-5270-4017-8858-827af43b3c5c",
   "metadata": {},
   "source": [
    "# 6"
   ]
  },
  {
   "cell_type": "code",
   "execution_count": 74,
   "id": "15a86e54-ea72-434e-8cc4-02875e7d348a",
   "metadata": {},
   "outputs": [
    {
     "name": "stdout",
     "output_type": "stream",
     "text": [
      "OLS Train Set R2 Score: 0.8936793584593188\n",
      "OLS Test Set R2 Score: 0.9110275702091712\n",
      "Gradient Descent Train Set R2 Score: 0.8936788712295599\n",
      "Gradient Descent Test Set R2 Score: 0.9109978474049424\n"
     ]
    }
   ],
   "source": [
    "# Fit the OLS model\n",
    "ols_model = LinearRegression()\n",
    "ols_model.fit(x_train.iloc[:, 1:], y_train) # Do not include Bias column\n",
    "\n",
    "# Get OLS predictions\n",
    "ols_train_predictions = ols_model.predict(x_train.iloc[:, 1:])\n",
    "ols_test_predictions = ols_model.predict(x_test.iloc[:, 1:])\n",
    "\n",
    "# Calculate OLS R2 Scores\n",
    "ols_train_r2 = r2_score(y_train, ols_train_predictions)\n",
    "ols_test_r2 = r2_score(y_test, ols_test_predictions)\n",
    "\n",
    "# Calculate OLS MSE\n",
    "ols_train_mse = mean_squared_error(y_train, ols_train_predictions)\n",
    "ols_test_mse = mean_squared_error(y_test, ols_test_predictions)\n",
    "\n",
    "# Display OLS results\n",
    "print(f\"OLS Train Set R2 Score: {ols_train_r2}\")\n",
    "print(f\"OLS Test Set R2 Score: {ols_test_r2}\")\n",
    "\n",
    "\n",
    "# Display Gradient Descent results\n",
    "print(f\"Gradient Descent Train Set R2 Score: {r2_train_set}\")\n",
    "print(f\"Gradient Descent Test Set R2 Score: {r2_test_set}\")\n"
   ]
  },
  {
   "cell_type": "markdown",
   "id": "b5e85a54-7b93-4b57-a702-7ccc911ac36e",
   "metadata": {},
   "source": [
    "Gradient Descent r2 is better than OLS r2 as it has a higher score for both training and test set but they both close to each other."
   ]
  },
  {
   "cell_type": "code",
   "execution_count": null,
   "id": "1f9f5d51-7da6-4c5d-85f9-6f0761233936",
   "metadata": {},
   "outputs": [],
   "source": []
  },
  {
   "cell_type": "code",
   "execution_count": null,
   "id": "9ffe5817-2994-4fde-b789-a9eed0ccd2c0",
   "metadata": {},
   "outputs": [],
   "source": []
  },
  {
   "cell_type": "code",
   "execution_count": null,
   "id": "67b3a762-11f9-45a6-ad32-9c541fbda0d4",
   "metadata": {},
   "outputs": [],
   "source": []
  },
  {
   "cell_type": "code",
   "execution_count": null,
   "id": "6a3d4346-05b7-42fb-89c3-ce875d4dccf0",
   "metadata": {},
   "outputs": [],
   "source": []
  },
  {
   "cell_type": "code",
   "execution_count": null,
   "id": "6df77e4d-09a1-420e-b3b3-00179eec6922",
   "metadata": {},
   "outputs": [],
   "source": []
  }
 ],
 "metadata": {
  "kernelspec": {
   "display_name": "Python 3 (ipykernel)",
   "language": "python",
   "name": "python3"
  },
  "language_info": {
   "codemirror_mode": {
    "name": "ipython",
    "version": 3
   },
   "file_extension": ".py",
   "mimetype": "text/x-python",
   "name": "python",
   "nbconvert_exporter": "python",
   "pygments_lexer": "ipython3",
   "version": "3.12.4"
  }
 },
 "nbformat": 4,
 "nbformat_minor": 5
}
